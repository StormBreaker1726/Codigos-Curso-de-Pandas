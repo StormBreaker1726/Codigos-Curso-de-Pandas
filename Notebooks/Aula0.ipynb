{
 "nbformat": 4,
 "nbformat_minor": 0,
 "metadata": {
  "colab": {
   "name": "Aula0.ipynb",
   "provenance": [],
   "collapsed_sections": [],
   "authorship_tag": "ABX9TyMWM3punNKrenKnYlLsIUiz"
  },
  "kernelspec": {
   "name": "python3",
   "display_name": "Python 3"
  },
  "language_info": {
   "name": "python"
  }
 },
 "cells": [
  {
   "cell_type": "markdown",
   "source": [
    "# Aula 0.1 - Abrindo arquivos em CSV"
   ],
   "metadata": {
    "collapsed": false,
    "pycharm": {
     "name": "#%% md\n"
    }
   }
  },
  {
   "cell_type": "code",
   "execution_count": 1,
   "metadata": {
    "id": "iV9KrQtkqFfy",
    "pycharm": {
     "name": "#%%\n"
    }
   },
   "outputs": [
    {
     "name": "stdout",
     "output_type": "stream",
     "text": [
      "Requirement already satisfied: pandas in /home/joao-victor-oliveira/anaconda3/lib/python3.9/site-packages (1.4.2)\r\n",
      "Requirement already satisfied: python-dateutil>=2.8.1 in /home/joao-victor-oliveira/anaconda3/lib/python3.9/site-packages (from pandas) (2.8.2)\r\n",
      "Requirement already satisfied: pytz>=2020.1 in /home/joao-victor-oliveira/anaconda3/lib/python3.9/site-packages (from pandas) (2021.3)\r\n",
      "Requirement already satisfied: numpy>=1.18.5 in /home/joao-victor-oliveira/anaconda3/lib/python3.9/site-packages (from pandas) (1.21.5)\r\n",
      "Requirement already satisfied: six>=1.5 in /home/joao-victor-oliveira/anaconda3/lib/python3.9/site-packages (from python-dateutil>=2.8.1->pandas) (1.16.0)\r\n"
     ]
    }
   ],
   "source": [
    "# Instalando o pandas\n",
    "!pip install pandas"
   ]
  },
  {
   "cell_type": "code",
   "execution_count": 5,
   "outputs": [],
   "source": [
    "#Importando o pandas\n",
    "import pandas as pd"
   ],
   "metadata": {
    "collapsed": false,
    "pycharm": {
     "name": "#%%\n"
    }
   }
  },
  {
   "cell_type": "code",
   "execution_count": 11,
   "outputs": [],
   "source": [
    "#Abrindo o arquivo csv\n",
    "\n",
    "df = pd.read_csv(\"/home/joao-victor-oliveira/Documents/Repositories/Personal_Projects/Codigos-Curso-de-Pandas/CSVs/Datasets/AIDS/art_coverage_by_country_clean.csv\", encoding=\"UTF-8\", sep=\",\")\n",
    "\n",
    "#pd.read_csv(caminho do arquivo, codificação, separador)"
   ],
   "metadata": {
    "collapsed": false,
    "pycharm": {
     "name": "#%%\n"
    }
   }
  },
  {
   "cell_type": "code",
   "execution_count": 12,
   "outputs": [
    {
     "data": {
      "text/plain": "       Country Reported number of people receiving ART  \\\n0  Afghanistan                                     920   \n1      Albania                                     580   \n2      Algeria                                   12800   \n3       Angola                                   88700   \n4    Argentina                                   85500   \n\n  Estimated number of people living with HIV  \\\n0                           7200[4100–11000]   \n1                                     Nodata   \n2                         16000[15000–17000]   \n3                      330000[290000–390000]   \n4                      140000[130000–150000]   \n\n  Estimated ART coverage among people living with HIV (%)  \\\n0                                           13[7–20]        \n1                                             Nodata        \n2                                          81[75–86]        \n3                                          27[23–31]        \n4                                          61[55–67]        \n\n   Estimated number of people living with HIV_median  \\\n0                                             7200.0   \n1                                                NaN   \n2                                            16000.0   \n3                                           330000.0   \n4                                           140000.0   \n\n   Estimated number of people living with HIV_min  \\\n0                                          4100.0   \n1                                             NaN   \n2                                         15000.0   \n3                                        290000.0   \n4                                        130000.0   \n\n   Estimated number of people living with HIV_max  \\\n0                                         11000.0   \n1                                             NaN   \n2                                         17000.0   \n3                                        390000.0   \n4                                        150000.0   \n\n   Estimated ART coverage among people living with HIV (%)_median  \\\n0                                               13.0                \n1                                                NaN                \n2                                               81.0                \n3                                               27.0                \n4                                               61.0                \n\n   Estimated ART coverage among people living with HIV (%)_min  \\\n0                                                7.0             \n1                                                NaN             \n2                                               75.0             \n3                                               23.0             \n4                                               55.0             \n\n   Estimated ART coverage among people living with HIV (%)_max  \\\n0                                               20.0             \n1                                                NaN             \n2                                               86.0             \n3                                               31.0             \n4                                               67.0             \n\n              WHO Region  \n0  Eastern Mediterranean  \n1                 Europe  \n2                 Africa  \n3                 Africa  \n4               Americas  ",
      "text/html": "<div>\n<style scoped>\n    .dataframe tbody tr th:only-of-type {\n        vertical-align: middle;\n    }\n\n    .dataframe tbody tr th {\n        vertical-align: top;\n    }\n\n    .dataframe thead th {\n        text-align: right;\n    }\n</style>\n<table border=\"1\" class=\"dataframe\">\n  <thead>\n    <tr style=\"text-align: right;\">\n      <th></th>\n      <th>Country</th>\n      <th>Reported number of people receiving ART</th>\n      <th>Estimated number of people living with HIV</th>\n      <th>Estimated ART coverage among people living with HIV (%)</th>\n      <th>Estimated number of people living with HIV_median</th>\n      <th>Estimated number of people living with HIV_min</th>\n      <th>Estimated number of people living with HIV_max</th>\n      <th>Estimated ART coverage among people living with HIV (%)_median</th>\n      <th>Estimated ART coverage among people living with HIV (%)_min</th>\n      <th>Estimated ART coverage among people living with HIV (%)_max</th>\n      <th>WHO Region</th>\n    </tr>\n  </thead>\n  <tbody>\n    <tr>\n      <th>0</th>\n      <td>Afghanistan</td>\n      <td>920</td>\n      <td>7200[4100–11000]</td>\n      <td>13[7–20]</td>\n      <td>7200.0</td>\n      <td>4100.0</td>\n      <td>11000.0</td>\n      <td>13.0</td>\n      <td>7.0</td>\n      <td>20.0</td>\n      <td>Eastern Mediterranean</td>\n    </tr>\n    <tr>\n      <th>1</th>\n      <td>Albania</td>\n      <td>580</td>\n      <td>Nodata</td>\n      <td>Nodata</td>\n      <td>NaN</td>\n      <td>NaN</td>\n      <td>NaN</td>\n      <td>NaN</td>\n      <td>NaN</td>\n      <td>NaN</td>\n      <td>Europe</td>\n    </tr>\n    <tr>\n      <th>2</th>\n      <td>Algeria</td>\n      <td>12800</td>\n      <td>16000[15000–17000]</td>\n      <td>81[75–86]</td>\n      <td>16000.0</td>\n      <td>15000.0</td>\n      <td>17000.0</td>\n      <td>81.0</td>\n      <td>75.0</td>\n      <td>86.0</td>\n      <td>Africa</td>\n    </tr>\n    <tr>\n      <th>3</th>\n      <td>Angola</td>\n      <td>88700</td>\n      <td>330000[290000–390000]</td>\n      <td>27[23–31]</td>\n      <td>330000.0</td>\n      <td>290000.0</td>\n      <td>390000.0</td>\n      <td>27.0</td>\n      <td>23.0</td>\n      <td>31.0</td>\n      <td>Africa</td>\n    </tr>\n    <tr>\n      <th>4</th>\n      <td>Argentina</td>\n      <td>85500</td>\n      <td>140000[130000–150000]</td>\n      <td>61[55–67]</td>\n      <td>140000.0</td>\n      <td>130000.0</td>\n      <td>150000.0</td>\n      <td>61.0</td>\n      <td>55.0</td>\n      <td>67.0</td>\n      <td>Americas</td>\n    </tr>\n  </tbody>\n</table>\n</div>"
     },
     "execution_count": 12,
     "metadata": {},
     "output_type": "execute_result"
    }
   ],
   "source": [
    "#imprimindo os 5 primeiros dados do dataframe\n",
    "df.head()"
   ],
   "metadata": {
    "collapsed": false,
    "pycharm": {
     "name": "#%%\n"
    }
   }
  },
  {
   "cell_type": "code",
   "execution_count": 17,
   "outputs": [
    {
     "data": {
      "text/plain": "       Country Reported number of people receiving ART  \\\n0  Afghanistan                                     920   \n1      Albania                                     580   \n2      Algeria                                   12800   \n3       Angola                                   88700   \n4    Argentina                                   85500   \n\n  Estimated number of people living with HIV  \\\n0                           7200[4100–11000]   \n1                                     Nodata   \n2                         16000[15000–17000]   \n3                      330000[290000–390000]   \n4                      140000[130000–150000]   \n\n  Estimated ART coverage among people living with HIV (%)  \\\n0                                           13[7–20]        \n1                                             Nodata        \n2                                          81[75–86]        \n3                                          27[23–31]        \n4                                          61[55–67]        \n\n   Estimated number of people living with HIV_median  \\\n0                                             7200.0   \n1                                                NaN   \n2                                            16000.0   \n3                                           330000.0   \n4                                           140000.0   \n\n   Estimated number of people living with HIV_min  \\\n0                                          4100.0   \n1                                             NaN   \n2                                         15000.0   \n3                                        290000.0   \n4                                        130000.0   \n\n   Estimated number of people living with HIV_max  \\\n0                                         11000.0   \n1                                             NaN   \n2                                         17000.0   \n3                                        390000.0   \n4                                        150000.0   \n\n   Estimated ART coverage among people living with HIV (%)_median  \\\n0                                               13.0                \n1                                                NaN                \n2                                               81.0                \n3                                               27.0                \n4                                               61.0                \n\n   Estimated ART coverage among people living with HIV (%)_min  \\\n0                                                7.0             \n1                                                NaN             \n2                                               75.0             \n3                                               23.0             \n4                                               55.0             \n\n   Estimated ART coverage among people living with HIV (%)_max  \\\n0                                               20.0             \n1                                                NaN             \n2                                               86.0             \n3                                               31.0             \n4                                               67.0             \n\n              WHO Region  \n0  Eastern Mediterranean  \n1                 Europe  \n2                 Africa  \n3                 Africa  \n4               Americas  ",
      "text/html": "<div>\n<style scoped>\n    .dataframe tbody tr th:only-of-type {\n        vertical-align: middle;\n    }\n\n    .dataframe tbody tr th {\n        vertical-align: top;\n    }\n\n    .dataframe thead th {\n        text-align: right;\n    }\n</style>\n<table border=\"1\" class=\"dataframe\">\n  <thead>\n    <tr style=\"text-align: right;\">\n      <th></th>\n      <th>Country</th>\n      <th>Reported number of people receiving ART</th>\n      <th>Estimated number of people living with HIV</th>\n      <th>Estimated ART coverage among people living with HIV (%)</th>\n      <th>Estimated number of people living with HIV_median</th>\n      <th>Estimated number of people living with HIV_min</th>\n      <th>Estimated number of people living with HIV_max</th>\n      <th>Estimated ART coverage among people living with HIV (%)_median</th>\n      <th>Estimated ART coverage among people living with HIV (%)_min</th>\n      <th>Estimated ART coverage among people living with HIV (%)_max</th>\n      <th>WHO Region</th>\n    </tr>\n  </thead>\n  <tbody>\n    <tr>\n      <th>0</th>\n      <td>Afghanistan</td>\n      <td>920</td>\n      <td>7200[4100–11000]</td>\n      <td>13[7–20]</td>\n      <td>7200.0</td>\n      <td>4100.0</td>\n      <td>11000.0</td>\n      <td>13.0</td>\n      <td>7.0</td>\n      <td>20.0</td>\n      <td>Eastern Mediterranean</td>\n    </tr>\n    <tr>\n      <th>1</th>\n      <td>Albania</td>\n      <td>580</td>\n      <td>Nodata</td>\n      <td>Nodata</td>\n      <td>NaN</td>\n      <td>NaN</td>\n      <td>NaN</td>\n      <td>NaN</td>\n      <td>NaN</td>\n      <td>NaN</td>\n      <td>Europe</td>\n    </tr>\n    <tr>\n      <th>2</th>\n      <td>Algeria</td>\n      <td>12800</td>\n      <td>16000[15000–17000]</td>\n      <td>81[75–86]</td>\n      <td>16000.0</td>\n      <td>15000.0</td>\n      <td>17000.0</td>\n      <td>81.0</td>\n      <td>75.0</td>\n      <td>86.0</td>\n      <td>Africa</td>\n    </tr>\n    <tr>\n      <th>3</th>\n      <td>Angola</td>\n      <td>88700</td>\n      <td>330000[290000–390000]</td>\n      <td>27[23–31]</td>\n      <td>330000.0</td>\n      <td>290000.0</td>\n      <td>390000.0</td>\n      <td>27.0</td>\n      <td>23.0</td>\n      <td>31.0</td>\n      <td>Africa</td>\n    </tr>\n    <tr>\n      <th>4</th>\n      <td>Argentina</td>\n      <td>85500</td>\n      <td>140000[130000–150000]</td>\n      <td>61[55–67]</td>\n      <td>140000.0</td>\n      <td>130000.0</td>\n      <td>150000.0</td>\n      <td>61.0</td>\n      <td>55.0</td>\n      <td>67.0</td>\n      <td>Americas</td>\n    </tr>\n  </tbody>\n</table>\n</div>"
     },
     "execution_count": 17,
     "metadata": {},
     "output_type": "execute_result"
    }
   ],
   "source": [
    "#Especificando cabeçalho do arquivo\n",
    "'''\n",
    "Usamos isso quando o cabeçalho do arquivo não está na primeira linha\n",
    "mas sim em linhas abaixo\n",
    "'''\n",
    "\n",
    "df = pd.read_csv(\"/home/joao-victor-oliveira/Documents/Repositories/Personal_Projects/Codigos-Curso-de-Pandas/CSVs/Datasets/AIDS/art_coverage_by_country_clean.csv\", encoding=\"UTF-8\", sep=\",\", header=0)\n",
    "#pd.read_csv(caminho do arquivo, codificação, separador, linha de cabeçalho)\n"
   ],
   "metadata": {
    "collapsed": false,
    "pycharm": {
     "name": "#%%\n"
    }
   }
  },
  {
   "cell_type": "code",
   "execution_count": 24,
   "outputs": [],
   "source": [
    "#Selecionando somente algumas colunas\n",
    "'''\n",
    "Durante a análise dos dados, podemos às vezes querer visualizar ou importar apenas algumas colunas.\n",
    "Para isso usamos a função abaixo\n",
    "'''\n",
    "\n",
    "'''\n",
    "Devemos tomar cuidado pois o nome da coluna na lista deve ser exatamente o nome\n",
    "da coluna no CSV\n",
    "'''\n",
    "\n",
    "df = pd.read_csv(\"/home/joao-victor-oliveira/Documents/Repositories/Personal_Projects/Codigos-Curso-de-Pandas/CSVs/Datasets/AIDS/art_coverage_by_country_clean.csv\", encoding=\"UTF-8\", sep=\",\", header=0, usecols=[\"Country\", \"Reported number of people receiving ART\", \"Estimated number of people living with HIV\", \"Estimated ART coverage among people living with HIV (%)\", \"WHO Region\"])\n",
    "\n",
    "#pd.read_csv(caminho do arquivo, codificação, separador, linha de cabeçalho, lista de colunas que queremos importar)\n"
   ],
   "metadata": {
    "collapsed": false,
    "pycharm": {
     "name": "#%%\n"
    }
   }
  },
  {
   "cell_type": "code",
   "execution_count": 25,
   "outputs": [],
   "source": [
    "#Lendo X linhas do arquivo\n",
    "'''\n",
    "Da mesma maneira, pode ser que queremos ler apenas algumas linhas do arquivo\n",
    "'''\n",
    "\n",
    "df = pd.read_csv(\"/home/joao-victor-oliveira/Documents/Repositories/Personal_Projects/Codigos-Curso-de-Pandas/CSVs/Datasets/AIDS/art_coverage_by_country_clean.csv\", encoding=\"UTF-8\", sep=\",\", header=0, usecols=[\"Country\", \"Reported number of people receiving ART\", \"Estimated number of people living with HIV\", \"Estimated ART coverage among people living with HIV (%)\", \"WHO Region\"], nrows=100)\n",
    "\n",
    "#pd.read_csv(caminho do arquivo, codificação, separador, linha de cabeçalho, lista de colunas que queremos importar, numero de linhas para importar)"
   ],
   "metadata": {
    "collapsed": false,
    "pycharm": {
     "name": "#%%\n"
    }
   }
  },
  {
   "cell_type": "code",
   "execution_count": 33,
   "outputs": [
    {
     "data": {
      "text/plain": "        Country Reported number of people receiving ART  \\\n0   Afghanistan                                     920   \n1       Albania                                     580   \n2       Algeria                                   12800   \n3        Angola                                   88700   \n4     Argentina                                   85500   \n..          ...                                     ...   \n95       Malawi                                  814000   \n96     Malaysia                                   41500   \n97     Maldives                                  Nodata   \n98         Mali                                   47100   \n99        Malta                                  Nodata   \n\n   Estimated number of people living with HIV  \\\n0                            7200[4100–11000]   \n1                                      Nodata   \n2                          16000[15000–17000]   \n3                       330000[290000–390000]   \n4                       140000[130000–150000]   \n..                                        ...   \n95                    1000000[940000–1100000]   \n96                         87000[77000–98000]   \n97                                     Nodata   \n98                      150000[120000–190000]   \n99                                     Nodata   \n\n   Estimated ART coverage among people living with HIV (%)  \\\n0                                            13[7–20]        \n1                                              Nodata        \n2                                           81[75–86]        \n3                                           27[23–31]        \n4                                           61[55–67]        \n..                                                ...        \n95                                          78[70–84]        \n96                                          48[42–53]        \n97                                             Nodata        \n98                                          31[25–39]        \n99                                             Nodata        \n\n               WHO Region  \n0   Eastern Mediterranean  \n1                  Europe  \n2                  Africa  \n3                  Africa  \n4                Americas  \n..                    ...  \n95                 Africa  \n96        Western Pacific  \n97        South-East Asia  \n98                 Africa  \n99                 Europe  \n\n[100 rows x 5 columns]",
      "text/html": "<div>\n<style scoped>\n    .dataframe tbody tr th:only-of-type {\n        vertical-align: middle;\n    }\n\n    .dataframe tbody tr th {\n        vertical-align: top;\n    }\n\n    .dataframe thead th {\n        text-align: right;\n    }\n</style>\n<table border=\"1\" class=\"dataframe\">\n  <thead>\n    <tr style=\"text-align: right;\">\n      <th></th>\n      <th>Country</th>\n      <th>Reported number of people receiving ART</th>\n      <th>Estimated number of people living with HIV</th>\n      <th>Estimated ART coverage among people living with HIV (%)</th>\n      <th>WHO Region</th>\n    </tr>\n  </thead>\n  <tbody>\n    <tr>\n      <th>0</th>\n      <td>Afghanistan</td>\n      <td>920</td>\n      <td>7200[4100–11000]</td>\n      <td>13[7–20]</td>\n      <td>Eastern Mediterranean</td>\n    </tr>\n    <tr>\n      <th>1</th>\n      <td>Albania</td>\n      <td>580</td>\n      <td>Nodata</td>\n      <td>Nodata</td>\n      <td>Europe</td>\n    </tr>\n    <tr>\n      <th>2</th>\n      <td>Algeria</td>\n      <td>12800</td>\n      <td>16000[15000–17000]</td>\n      <td>81[75–86]</td>\n      <td>Africa</td>\n    </tr>\n    <tr>\n      <th>3</th>\n      <td>Angola</td>\n      <td>88700</td>\n      <td>330000[290000–390000]</td>\n      <td>27[23–31]</td>\n      <td>Africa</td>\n    </tr>\n    <tr>\n      <th>4</th>\n      <td>Argentina</td>\n      <td>85500</td>\n      <td>140000[130000–150000]</td>\n      <td>61[55–67]</td>\n      <td>Americas</td>\n    </tr>\n    <tr>\n      <th>...</th>\n      <td>...</td>\n      <td>...</td>\n      <td>...</td>\n      <td>...</td>\n      <td>...</td>\n    </tr>\n    <tr>\n      <th>95</th>\n      <td>Malawi</td>\n      <td>814000</td>\n      <td>1000000[940000–1100000]</td>\n      <td>78[70–84]</td>\n      <td>Africa</td>\n    </tr>\n    <tr>\n      <th>96</th>\n      <td>Malaysia</td>\n      <td>41500</td>\n      <td>87000[77000–98000]</td>\n      <td>48[42–53]</td>\n      <td>Western Pacific</td>\n    </tr>\n    <tr>\n      <th>97</th>\n      <td>Maldives</td>\n      <td>Nodata</td>\n      <td>Nodata</td>\n      <td>Nodata</td>\n      <td>South-East Asia</td>\n    </tr>\n    <tr>\n      <th>98</th>\n      <td>Mali</td>\n      <td>47100</td>\n      <td>150000[120000–190000]</td>\n      <td>31[25–39]</td>\n      <td>Africa</td>\n    </tr>\n    <tr>\n      <th>99</th>\n      <td>Malta</td>\n      <td>Nodata</td>\n      <td>Nodata</td>\n      <td>Nodata</td>\n      <td>Europe</td>\n    </tr>\n  </tbody>\n</table>\n<p>100 rows × 5 columns</p>\n</div>"
     },
     "metadata": {},
     "output_type": "display_data"
    }
   ],
   "source": [
    "#Imprimindo o dataframe\n",
    "display(df)"
   ],
   "metadata": {
    "collapsed": false,
    "pycharm": {
     "name": "#%%\n"
    }
   }
  },
  {
   "cell_type": "markdown",
   "source": [
    "# Aula 0.4"
   ],
   "metadata": {
    "collapsed": false,
    "pycharm": {
     "name": "#%% md\n"
    }
   }
  },
  {
   "cell_type": "code",
   "execution_count": 4,
   "outputs": [],
   "source": [
    "import pandas as pd"
   ],
   "metadata": {
    "collapsed": false,
    "pycharm": {
     "name": "#%%\n"
    }
   }
  },
  {
   "cell_type": "code",
   "execution_count": 7,
   "outputs": [
    {
     "data": {
      "text/plain": "       Country Reported number of people receiving ART  \\\n0  Afghanistan                                     920   \n1      Albania                                     580   \n2      Algeria                                   12800   \n3       Angola                                   88700   \n4    Argentina                                   85500   \n\n  Estimated number of people living with HIV  \\\n0                           7200[4100–11000]   \n1                                     Nodata   \n2                         16000[15000–17000]   \n3                      330000[290000–390000]   \n4                      140000[130000–150000]   \n\n  Estimated ART coverage among people living with HIV (%)  \\\n0                                           13[7–20]        \n1                                             Nodata        \n2                                          81[75–86]        \n3                                          27[23–31]        \n4                                          61[55–67]        \n\n   Estimated number of people living with HIV_median  \\\n0                                             7200.0   \n1                                                NaN   \n2                                            16000.0   \n3                                           330000.0   \n4                                           140000.0   \n\n   Estimated number of people living with HIV_min  \\\n0                                          4100.0   \n1                                             NaN   \n2                                         15000.0   \n3                                        290000.0   \n4                                        130000.0   \n\n   Estimated number of people living with HIV_max  \\\n0                                         11000.0   \n1                                             NaN   \n2                                         17000.0   \n3                                        390000.0   \n4                                        150000.0   \n\n   Estimated ART coverage among people living with HIV (%)_median  \\\n0                                               13.0                \n1                                                NaN                \n2                                               81.0                \n3                                               27.0                \n4                                               61.0                \n\n   Estimated ART coverage among people living with HIV (%)_min  \\\n0                                                7.0             \n1                                                NaN             \n2                                               75.0             \n3                                               23.0             \n4                                               55.0             \n\n   Estimated ART coverage among people living with HIV (%)_max  \\\n0                                               20.0             \n1                                                NaN             \n2                                               86.0             \n3                                               31.0             \n4                                               67.0             \n\n              WHO Region  \n0  Eastern Mediterranean  \n1                 Europe  \n2                 Africa  \n3                 Africa  \n4               Americas  ",
      "text/html": "<div>\n<style scoped>\n    .dataframe tbody tr th:only-of-type {\n        vertical-align: middle;\n    }\n\n    .dataframe tbody tr th {\n        vertical-align: top;\n    }\n\n    .dataframe thead th {\n        text-align: right;\n    }\n</style>\n<table border=\"1\" class=\"dataframe\">\n  <thead>\n    <tr style=\"text-align: right;\">\n      <th></th>\n      <th>Country</th>\n      <th>Reported number of people receiving ART</th>\n      <th>Estimated number of people living with HIV</th>\n      <th>Estimated ART coverage among people living with HIV (%)</th>\n      <th>Estimated number of people living with HIV_median</th>\n      <th>Estimated number of people living with HIV_min</th>\n      <th>Estimated number of people living with HIV_max</th>\n      <th>Estimated ART coverage among people living with HIV (%)_median</th>\n      <th>Estimated ART coverage among people living with HIV (%)_min</th>\n      <th>Estimated ART coverage among people living with HIV (%)_max</th>\n      <th>WHO Region</th>\n    </tr>\n  </thead>\n  <tbody>\n    <tr>\n      <th>0</th>\n      <td>Afghanistan</td>\n      <td>920</td>\n      <td>7200[4100–11000]</td>\n      <td>13[7–20]</td>\n      <td>7200.0</td>\n      <td>4100.0</td>\n      <td>11000.0</td>\n      <td>13.0</td>\n      <td>7.0</td>\n      <td>20.0</td>\n      <td>Eastern Mediterranean</td>\n    </tr>\n    <tr>\n      <th>1</th>\n      <td>Albania</td>\n      <td>580</td>\n      <td>Nodata</td>\n      <td>Nodata</td>\n      <td>NaN</td>\n      <td>NaN</td>\n      <td>NaN</td>\n      <td>NaN</td>\n      <td>NaN</td>\n      <td>NaN</td>\n      <td>Europe</td>\n    </tr>\n    <tr>\n      <th>2</th>\n      <td>Algeria</td>\n      <td>12800</td>\n      <td>16000[15000–17000]</td>\n      <td>81[75–86]</td>\n      <td>16000.0</td>\n      <td>15000.0</td>\n      <td>17000.0</td>\n      <td>81.0</td>\n      <td>75.0</td>\n      <td>86.0</td>\n      <td>Africa</td>\n    </tr>\n    <tr>\n      <th>3</th>\n      <td>Angola</td>\n      <td>88700</td>\n      <td>330000[290000–390000]</td>\n      <td>27[23–31]</td>\n      <td>330000.0</td>\n      <td>290000.0</td>\n      <td>390000.0</td>\n      <td>27.0</td>\n      <td>23.0</td>\n      <td>31.0</td>\n      <td>Africa</td>\n    </tr>\n    <tr>\n      <th>4</th>\n      <td>Argentina</td>\n      <td>85500</td>\n      <td>140000[130000–150000]</td>\n      <td>61[55–67]</td>\n      <td>140000.0</td>\n      <td>130000.0</td>\n      <td>150000.0</td>\n      <td>61.0</td>\n      <td>55.0</td>\n      <td>67.0</td>\n      <td>Americas</td>\n    </tr>\n  </tbody>\n</table>\n</div>"
     },
     "execution_count": 7,
     "metadata": {},
     "output_type": "execute_result"
    }
   ],
   "source": [
    "df = pd.read_csv(\"/home/joao-victor-oliveira/Documents/Repositories/Personal_Projects/Codigos-Curso-de-Pandas/CSVs/Datasets/AIDS/art_coverage_by_country_clean.csv\")\n",
    "\n",
    "df.head()"
   ],
   "metadata": {
    "collapsed": false,
    "pycharm": {
     "name": "#%%\n"
    }
   }
  },
  {
   "cell_type": "code",
   "execution_count": 12,
   "outputs": [
    {
     "data": {
      "text/plain": "0         7200[4100–11000]\n1                   Nodata\n2       16000[15000–17000]\n3    330000[290000–390000]\n4    140000[130000–150000]\nName: Estimated number of people living with HIV, dtype: object"
     },
     "execution_count": 12,
     "metadata": {},
     "output_type": "execute_result"
    }
   ],
   "source": [
    "# Selecionando uma coluna por índice\n",
    "'''\n",
    "Seleciona apenas uma coluna do DataFrame\n",
    "Difere do passo anterior, pois aqui importamos para o DataFrame\n",
    "todas as colunas mas estamos selecionando apenas uma do DataFrame\n",
    "já construído\n",
    "'''\n",
    "#DataFrame[coluna]\n",
    "df[\"Estimated number of people living with HIV\"].head()"
   ],
   "metadata": {
    "collapsed": false,
    "pycharm": {
     "name": "#%%\n"
    }
   }
  },
  {
   "cell_type": "code",
   "execution_count": 14,
   "outputs": [
    {
     "data": {
      "text/plain": "       Country Estimated number of people living with HIV\n0  Afghanistan                           7200[4100–11000]\n1      Albania                                     Nodata\n2      Algeria                         16000[15000–17000]\n3       Angola                      330000[290000–390000]\n4    Argentina                      140000[130000–150000]",
      "text/html": "<div>\n<style scoped>\n    .dataframe tbody tr th:only-of-type {\n        vertical-align: middle;\n    }\n\n    .dataframe tbody tr th {\n        vertical-align: top;\n    }\n\n    .dataframe thead th {\n        text-align: right;\n    }\n</style>\n<table border=\"1\" class=\"dataframe\">\n  <thead>\n    <tr style=\"text-align: right;\">\n      <th></th>\n      <th>Country</th>\n      <th>Estimated number of people living with HIV</th>\n    </tr>\n  </thead>\n  <tbody>\n    <tr>\n      <th>0</th>\n      <td>Afghanistan</td>\n      <td>7200[4100–11000]</td>\n    </tr>\n    <tr>\n      <th>1</th>\n      <td>Albania</td>\n      <td>Nodata</td>\n    </tr>\n    <tr>\n      <th>2</th>\n      <td>Algeria</td>\n      <td>16000[15000–17000]</td>\n    </tr>\n    <tr>\n      <th>3</th>\n      <td>Angola</td>\n      <td>330000[290000–390000]</td>\n    </tr>\n    <tr>\n      <th>4</th>\n      <td>Argentina</td>\n      <td>140000[130000–150000]</td>\n    </tr>\n  </tbody>\n</table>\n</div>"
     },
     "execution_count": 14,
     "metadata": {},
     "output_type": "execute_result"
    }
   ],
   "source": [
    "# Selecionando n colunas por índice\n",
    "#DataFrame[[coluna1, coluna2, ..., colunaN]]\n",
    "df[[\"Country\", \"Estimated number of people living with HIV\"]].head()\n"
   ],
   "metadata": {
    "collapsed": false,
    "pycharm": {
     "name": "#%%\n"
    }
   }
  },
  {
   "cell_type": "code",
   "execution_count": 16,
   "outputs": [
    {
     "data": {
      "text/plain": "0    Afghanistan\n1        Albania\n2        Algeria\n3         Angola\n4      Argentina\nName: Country, dtype: object"
     },
     "execution_count": 16,
     "metadata": {},
     "output_type": "execute_result"
    }
   ],
   "source": [
    "# Selecionando por notação de ponto\n",
    "'''\n",
    "Notação que segue o padrão de atributo de POO; só conseguimos um por\n",
    "notação\n",
    "'''\n",
    "#DataFrame.atributo\n",
    "df.Country.head()"
   ],
   "metadata": {
    "collapsed": false,
    "pycharm": {
     "name": "#%%\n"
    }
   }
  },
  {
   "cell_type": "code",
   "execution_count": 20,
   "outputs": [
    {
     "data": {
      "text/plain": "       Country Reported number of people receiving ART  \\\n0  Afghanistan                                     920   \n1      Albania                                     580   \n2      Algeria                                   12800   \n3       Angola                                   88700   \n4    Argentina                                   85500   \n\n  Estimated number of people living with HIV  \\\n0                           7200[4100–11000]   \n1                                     Nodata   \n2                         16000[15000–17000]   \n3                      330000[290000–390000]   \n4                      140000[130000–150000]   \n\n  Estimated ART coverage among people living with HIV (%)  \\\n0                                           13[7–20]        \n1                                             Nodata        \n2                                          81[75–86]        \n3                                          27[23–31]        \n4                                          61[55–67]        \n\n   Estimated number of people living with HIV_median  \\\n0                                             7200.0   \n1                                                NaN   \n2                                            16000.0   \n3                                           330000.0   \n4                                           140000.0   \n\n   Estimated number of people living with HIV_min  \\\n0                                          4100.0   \n1                                             NaN   \n2                                         15000.0   \n3                                        290000.0   \n4                                        130000.0   \n\n   Estimated number of people living with HIV_max  \\\n0                                         11000.0   \n1                                             NaN   \n2                                         17000.0   \n3                                        390000.0   \n4                                        150000.0   \n\n   Estimated ART coverage among people living with HIV (%)_median  \\\n0                                               13.0                \n1                                                NaN                \n2                                               81.0                \n3                                               27.0                \n4                                               61.0                \n\n   Estimated ART coverage among people living with HIV (%)_min  \\\n0                                                7.0             \n1                                                NaN             \n2                                               75.0             \n3                                               23.0             \n4                                               55.0             \n\n   Estimated ART coverage among people living with HIV (%)_max  \\\n0                                               20.0             \n1                                                NaN             \n2                                               86.0             \n3                                               31.0             \n4                                               67.0             \n\n              WHO Region Planet  \n0  Eastern Mediterranean  Earth  \n1                 Europe  Earth  \n2                 Africa  Earth  \n3                 Africa  Earth  \n4               Americas  Earth  ",
      "text/html": "<div>\n<style scoped>\n    .dataframe tbody tr th:only-of-type {\n        vertical-align: middle;\n    }\n\n    .dataframe tbody tr th {\n        vertical-align: top;\n    }\n\n    .dataframe thead th {\n        text-align: right;\n    }\n</style>\n<table border=\"1\" class=\"dataframe\">\n  <thead>\n    <tr style=\"text-align: right;\">\n      <th></th>\n      <th>Country</th>\n      <th>Reported number of people receiving ART</th>\n      <th>Estimated number of people living with HIV</th>\n      <th>Estimated ART coverage among people living with HIV (%)</th>\n      <th>Estimated number of people living with HIV_median</th>\n      <th>Estimated number of people living with HIV_min</th>\n      <th>Estimated number of people living with HIV_max</th>\n      <th>Estimated ART coverage among people living with HIV (%)_median</th>\n      <th>Estimated ART coverage among people living with HIV (%)_min</th>\n      <th>Estimated ART coverage among people living with HIV (%)_max</th>\n      <th>WHO Region</th>\n      <th>Planet</th>\n    </tr>\n  </thead>\n  <tbody>\n    <tr>\n      <th>0</th>\n      <td>Afghanistan</td>\n      <td>920</td>\n      <td>7200[4100–11000]</td>\n      <td>13[7–20]</td>\n      <td>7200.0</td>\n      <td>4100.0</td>\n      <td>11000.0</td>\n      <td>13.0</td>\n      <td>7.0</td>\n      <td>20.0</td>\n      <td>Eastern Mediterranean</td>\n      <td>Earth</td>\n    </tr>\n    <tr>\n      <th>1</th>\n      <td>Albania</td>\n      <td>580</td>\n      <td>Nodata</td>\n      <td>Nodata</td>\n      <td>NaN</td>\n      <td>NaN</td>\n      <td>NaN</td>\n      <td>NaN</td>\n      <td>NaN</td>\n      <td>NaN</td>\n      <td>Europe</td>\n      <td>Earth</td>\n    </tr>\n    <tr>\n      <th>2</th>\n      <td>Algeria</td>\n      <td>12800</td>\n      <td>16000[15000–17000]</td>\n      <td>81[75–86]</td>\n      <td>16000.0</td>\n      <td>15000.0</td>\n      <td>17000.0</td>\n      <td>81.0</td>\n      <td>75.0</td>\n      <td>86.0</td>\n      <td>Africa</td>\n      <td>Earth</td>\n    </tr>\n    <tr>\n      <th>3</th>\n      <td>Angola</td>\n      <td>88700</td>\n      <td>330000[290000–390000]</td>\n      <td>27[23–31]</td>\n      <td>330000.0</td>\n      <td>290000.0</td>\n      <td>390000.0</td>\n      <td>27.0</td>\n      <td>23.0</td>\n      <td>31.0</td>\n      <td>Africa</td>\n      <td>Earth</td>\n    </tr>\n    <tr>\n      <th>4</th>\n      <td>Argentina</td>\n      <td>85500</td>\n      <td>140000[130000–150000]</td>\n      <td>61[55–67]</td>\n      <td>140000.0</td>\n      <td>130000.0</td>\n      <td>150000.0</td>\n      <td>61.0</td>\n      <td>55.0</td>\n      <td>67.0</td>\n      <td>Americas</td>\n      <td>Earth</td>\n    </tr>\n  </tbody>\n</table>\n</div>"
     },
     "execution_count": 20,
     "metadata": {},
     "output_type": "execute_result"
    }
   ],
   "source": [
    "# Adicionando coluna nova\n",
    "'''\n",
    "Às vezes precisamos de colunas novas\n",
    "no DataFrame. Podemos criá-las com o exemplo\n",
    "abaixo\n",
    "'''\n",
    "\n",
    "df[\"Planet\"] = \"Earth\"\n",
    "#DataFrame[nome para a coluna] = valor da coluna (pode usar operações com outras colunas tb)\n",
    "df.head()"
   ],
   "metadata": {
    "collapsed": false,
    "pycharm": {
     "name": "#%%\n"
    }
   }
  },
  {
   "cell_type": "markdown",
   "source": [
    "# Aula 0.5"
   ],
   "metadata": {
    "collapsed": false,
    "pycharm": {
     "name": "#%% md\n"
    }
   }
  },
  {
   "cell_type": "code",
   "execution_count": 21,
   "outputs": [
    {
     "data": {
      "text/plain": "       Country Reported number of people receiving ART  \\\n0  Afghanistan                                     920   \n1      Albania                                     580   \n2      Algeria                                   12800   \n3       Angola                                   88700   \n4    Argentina                                   85500   \n\n  Estimated number of people living with HIV  \\\n0                           7200[4100–11000]   \n1                                     Nodata   \n2                         16000[15000–17000]   \n3                      330000[290000–390000]   \n4                      140000[130000–150000]   \n\n  Estimated ART coverage among people living with HIV (%)  \\\n0                                           13[7–20]        \n1                                             Nodata        \n2                                          81[75–86]        \n3                                          27[23–31]        \n4                                          61[55–67]        \n\n   Estimated number of people living with HIV_median  \\\n0                                             7200.0   \n1                                                NaN   \n2                                            16000.0   \n3                                           330000.0   \n4                                           140000.0   \n\n   Estimated number of people living with HIV_min  \\\n0                                          4100.0   \n1                                             NaN   \n2                                         15000.0   \n3                                        290000.0   \n4                                        130000.0   \n\n   Estimated number of people living with HIV_max  \\\n0                                         11000.0   \n1                                             NaN   \n2                                         17000.0   \n3                                        390000.0   \n4                                        150000.0   \n\n   Estimated ART coverage among people living with HIV (%)_median  \\\n0                                               13.0                \n1                                                NaN                \n2                                               81.0                \n3                                               27.0                \n4                                               61.0                \n\n   Estimated ART coverage among people living with HIV (%)_min  \\\n0                                                7.0             \n1                                                NaN             \n2                                               75.0             \n3                                               23.0             \n4                                               55.0             \n\n   Estimated ART coverage among people living with HIV (%)_max  \\\n0                                               20.0             \n1                                                NaN             \n2                                               86.0             \n3                                               31.0             \n4                                               67.0             \n\n              WHO Region  \n0  Eastern Mediterranean  \n1                 Europe  \n2                 Africa  \n3                 Africa  \n4               Americas  ",
      "text/html": "<div>\n<style scoped>\n    .dataframe tbody tr th:only-of-type {\n        vertical-align: middle;\n    }\n\n    .dataframe tbody tr th {\n        vertical-align: top;\n    }\n\n    .dataframe thead th {\n        text-align: right;\n    }\n</style>\n<table border=\"1\" class=\"dataframe\">\n  <thead>\n    <tr style=\"text-align: right;\">\n      <th></th>\n      <th>Country</th>\n      <th>Reported number of people receiving ART</th>\n      <th>Estimated number of people living with HIV</th>\n      <th>Estimated ART coverage among people living with HIV (%)</th>\n      <th>Estimated number of people living with HIV_median</th>\n      <th>Estimated number of people living with HIV_min</th>\n      <th>Estimated number of people living with HIV_max</th>\n      <th>Estimated ART coverage among people living with HIV (%)_median</th>\n      <th>Estimated ART coverage among people living with HIV (%)_min</th>\n      <th>Estimated ART coverage among people living with HIV (%)_max</th>\n      <th>WHO Region</th>\n    </tr>\n  </thead>\n  <tbody>\n    <tr>\n      <th>0</th>\n      <td>Afghanistan</td>\n      <td>920</td>\n      <td>7200[4100–11000]</td>\n      <td>13[7–20]</td>\n      <td>7200.0</td>\n      <td>4100.0</td>\n      <td>11000.0</td>\n      <td>13.0</td>\n      <td>7.0</td>\n      <td>20.0</td>\n      <td>Eastern Mediterranean</td>\n    </tr>\n    <tr>\n      <th>1</th>\n      <td>Albania</td>\n      <td>580</td>\n      <td>Nodata</td>\n      <td>Nodata</td>\n      <td>NaN</td>\n      <td>NaN</td>\n      <td>NaN</td>\n      <td>NaN</td>\n      <td>NaN</td>\n      <td>NaN</td>\n      <td>Europe</td>\n    </tr>\n    <tr>\n      <th>2</th>\n      <td>Algeria</td>\n      <td>12800</td>\n      <td>16000[15000–17000]</td>\n      <td>81[75–86]</td>\n      <td>16000.0</td>\n      <td>15000.0</td>\n      <td>17000.0</td>\n      <td>81.0</td>\n      <td>75.0</td>\n      <td>86.0</td>\n      <td>Africa</td>\n    </tr>\n    <tr>\n      <th>3</th>\n      <td>Angola</td>\n      <td>88700</td>\n      <td>330000[290000–390000]</td>\n      <td>27[23–31]</td>\n      <td>330000.0</td>\n      <td>290000.0</td>\n      <td>390000.0</td>\n      <td>27.0</td>\n      <td>23.0</td>\n      <td>31.0</td>\n      <td>Africa</td>\n    </tr>\n    <tr>\n      <th>4</th>\n      <td>Argentina</td>\n      <td>85500</td>\n      <td>140000[130000–150000]</td>\n      <td>61[55–67]</td>\n      <td>140000.0</td>\n      <td>130000.0</td>\n      <td>150000.0</td>\n      <td>61.0</td>\n      <td>55.0</td>\n      <td>67.0</td>\n      <td>Americas</td>\n    </tr>\n  </tbody>\n</table>\n</div>"
     },
     "execution_count": 21,
     "metadata": {},
     "output_type": "execute_result"
    }
   ],
   "source": [
    "import pandas as pd\n",
    "\n",
    "df = pd.read_csv(\"/home/joao-victor-oliveira/Documents/Repositories/Personal_Projects/Codigos-Curso-de-Pandas/CSVs/Datasets/AIDS/art_coverage_by_country_clean.csv\")\n",
    "\n",
    "df.head()"
   ],
   "metadata": {
    "collapsed": false,
    "pycharm": {
     "name": "#%%\n"
    }
   }
  },
  {
   "cell_type": "code",
   "execution_count": null,
   "outputs": [],
   "source": [
    "# Usando o loc"
   ],
   "metadata": {
    "collapsed": false,
    "pycharm": {
     "name": "#%%\n"
    }
   }
  },
  {
   "cell_type": "code",
   "execution_count": null,
   "outputs": [],
   "source": [
    "# Usando o iloc"
   ],
   "metadata": {
    "collapsed": false,
    "pycharm": {
     "name": "#%%\n"
    }
   }
  }
 ]
}